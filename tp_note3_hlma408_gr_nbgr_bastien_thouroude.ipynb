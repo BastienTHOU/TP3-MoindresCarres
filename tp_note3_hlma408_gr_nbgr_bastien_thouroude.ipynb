{
 "cells": [
  {
   "cell_type": "markdown",
   "metadata": {},
   "source": [
    "# TP n°3 (TP noté) : Moindres carrés"
   ]
  },
  {
   "source": [
    "### IMPORTATION DES LIBRAIRIES"
   ],
   "cell_type": "markdown",
   "metadata": {}
  },
  {
   "cell_type": "code",
   "execution_count": 14,
   "metadata": {},
   "outputs": [],
   "source": [
    "import numpy as np\n",
    "import random as rdm\n",
    "import pandas as pd\n",
    "from download import download\n",
    "import os\n",
    "import statsmodels.api as sm\n",
    "import statsmodels.formula.api as smf\n",
    "import matplotlib.pyplot as plt\n",
    "import seaborn as sns"
   ]
  },
  {
   "source": [
    "### EXERCICE 1 - Préliminaires"
   ],
   "cell_type": "markdown",
   "metadata": {}
  },
  {
   "source": [
    "1) **(0.25pt)** Construire la chaîne de caractères `nom_fichier` données ci-dessus, et donner sa taille."
   ],
   "cell_type": "markdown",
   "metadata": {}
  },
  {
   "cell_type": "code",
   "execution_count": 15,
   "metadata": {},
   "outputs": [],
   "source": [
    "## Question 1.\n",
    "nom_fichier = \"tp_note3_hlma408_gr_nbgr_bastien_thouroude.ipynb\""
   ]
  },
  {
   "source": [
    "2) **(0.25pt)** Calculer $\\alpha$ qui vaut la longueur de la chaîne de caractère `mon_fichier` divisé par 1000 (par exemple pour `nom_prenom` = `Salmon_Joseph`, on trouve $\\alpha = 0.041$, soit 4.1 %) et donner le\n",
    "quantile $(1 - \\alpha)$ d’une loi gaussienne centrée réduite.\n"
   ],
   "cell_type": "markdown",
   "metadata": {}
  },
  {
   "cell_type": "code",
   "execution_count": 29,
   "metadata": {},
   "outputs": [
    {
     "output_type": "stream",
     "name": "stdout",
     "text": [
      "α = 0.048, soit 4.8 %\n",
      "Le quantile (1 - α) d'une loi gausienne centrée réduite est : 0\n"
     ]
    }
   ],
   "source": [
    "## Question 2.\n",
    "alpha = len(nom_fichier) / 1000\n",
    "\n",
    "print(\"α = \" + str(alpha) + \", soit \" + str(alpha * 100) + \" %\")\n",
    "\n",
    "##Calcul du quantile(1 - alpha) (a écrire)\n",
    "quantile = 0\n",
    "\n",
    "print(\"Le quantile (1 - α) d'une loi gausienne centrée réduite est : \" + str(quantile))"
   ]
  },
  {
   "source": [
    "### EXERCICE 2 - Dés et tirages aléatoires"
   ],
   "cell_type": "markdown",
   "metadata": {}
  },
  {
   "source": [
    "On se propose de simuler numériquement le fonctionnement d’un dé à 4 fâces (numérotées de 1 à 4), et de vérifier statistiquement que la simulation est satisfaisante."
   ],
   "cell_type": "markdown",
   "metadata": {}
  },
  {
   "source": [
    "1) **(0.75pt)** Créer une fonction appelée `echantillon_de4` en Python qui prend en entrée `n_samples`, et qui renvoit en sortie un vecteur (`numpy array`) de taille `n_samples`, dont les valeurs sont tirées au hasard et uniformément entre 1 et 4."
   ],
   "cell_type": "markdown",
   "metadata": {}
  },
  {
   "cell_type": "code",
   "execution_count": 17,
   "metadata": {},
   "outputs": [],
   "source": [
    "## Question 1.\n",
    "def echantillon_de4 (n_samples) :\n",
    "\n",
    "    ##Je définis un vecteur de taille n_samples remplit de 0\n",
    "    tirage = np.zeros(n_samples)\n",
    "\n",
    "    ##Pour chaque élément de mon vecteur, je tire une valeur aléatoire et uniforme sur [1; 4]\n",
    "    for i in range(n_samples) :\n",
    "        tirage[i] = rdm.uniform(1,4)\n",
    "    \n",
    "    return tirage"
   ]
  },
  {
   "source": [
    "2) **(0.25pt)** Tirer un échantillon de taille `n_samples` $= 1000$ avec cette fontion, et donner les fréquences empiriques des 4 faces."
   ],
   "cell_type": "markdown",
   "metadata": {}
  },
  {
   "cell_type": "code",
   "execution_count": 18,
   "metadata": {},
   "outputs": [],
   "source": [
    "## Question 2.\n",
    "tirage1000 = echantillon_de4(1000)\n",
    "for i in range(1000) : \n",
    "    ##Calculer les fréquences empiriques\n",
    "    pass"
   ]
  },
  {
   "source": [
    "3) **(1 pts)**  Proposer une méthodologie pour valider par un test statistique si votre fonction est bien valide, et conclure sur la qualité de votre méthode"
   ],
   "cell_type": "markdown",
   "metadata": {}
  },
  {
   "cell_type": "code",
   "execution_count": 19,
   "metadata": {},
   "outputs": [],
   "source": [
    "## Question 3."
   ]
  },
  {
   "source": [
    "### EXERCICE 3 - Prairies et rendement agricole"
   ],
   "cell_type": "markdown",
   "metadata": {}
  },
  {
   "source": [
    "Dans cet exercice, on veut faire une analyse de la variance pour vérifier l’influence du type de sol sur\n",
    "le rendement fourrager. On dispose de 30 observations de parcelles de prairie pour lesquelles on a mesuré\n",
    "la variable `rendement` (en tonnes) et on donne la variable `parcelle` qui indique le type de sol (codé par\n",
    "1, 2 ou 3)."
   ],
   "cell_type": "markdown",
   "metadata": {}
  },
  {
   "source": [
    "1) Importez le jeu de données `prairie.txt` dans une table nommée `prairie`"
   ],
   "cell_type": "markdown",
   "metadata": {}
  },
  {
   "cell_type": "code",
   "execution_count": 20,
   "metadata": {},
   "outputs": [],
   "source": [
    "## Question 1.\n",
    "##Je rentre mon url dans une variable pour pouvoir aisément en changer\n",
    "url = \"http://josephsalmon.eu/enseignement/datasets/prairie.txt\"\n",
    "\n",
    "#Je récupère le fichier dans un table (en fixant le délimiteur de colonne par un espace ' ')\n",
    "prairie = np.genfromtxt(url, delimiter=' ', skip_header=1)\n",
    "prairie = pd.DataFrame(prairie)"
   ]
  },
  {
   "source": [
    "2) **(1pt)** Reproduire avec Python le graphique de la Figure 1.\n",
    "\n",
    "Tracer avec `subplots` un graphique qui contient deux sous-graphiques du rendement des parcelles en fonction du type de sol (encodé par `parcelle`) : en haut, un diagramme en violon ; en bas, un graphique `swarmplot` des données."
   ],
   "cell_type": "markdown",
   "metadata": {}
  },
  {
   "cell_type": "code",
   "execution_count": 21,
   "metadata": {},
   "outputs": [],
   "source": [
    "## Question 2."
   ]
  },
  {
   "source": [
    "### EXERCICE 4 - Impact d'un traitement sur la croissance des plantes"
   ],
   "cell_type": "markdown",
   "metadata": {}
  },
  {
   "source": [
    "Une expérience de comparaison de deux traitements de plantes repose sur l’étude d’un échantillon de 20 plantes : 10 plantes ont été sélectionnées au hasard pour subir le traitement 1 et les 10 plantes restantes ont subi le traitement 2. On va étudier la masse (en grammes) des plantes après traitement."
   ],
   "cell_type": "markdown",
   "metadata": {}
  },
  {
   "source": [
    "1) Créez deux vecteurs `echA` et `echB` qui contiennent respectivement les données des poids avec le traitement A et le traitement B :\n",
    "$$14.4, 14.7, 13.2, 12.1, 18.7, 15.0, 13.3, 17.8, 16.6, 15.0 \\space \\space (traitement A)$$\n",
    "$$25.6, 17.7, 19.0, 26.7, 22.6, 19.1, 22.9, 21.0, 25.7, 23.7 \\space \\space (traitement B)$$\n"
   ],
   "cell_type": "markdown",
   "metadata": {}
  },
  {
   "cell_type": "code",
   "execution_count": 22,
   "metadata": {},
   "outputs": [],
   "source": [
    "## Question 1.\n",
    "echA = np.array([14.4, 14.7, 13.2, 12.1, 18.7, 15.0, 13.3, 17.8, 16.6, 15.0])\n",
    "echB = np.array([25.6, 17.7, 19.0, 26.7, 22.6, 19.1, 22.9, 21.0, 25.7, 23.7])"
   ]
  },
  {
   "source": [
    "2) **(1pt)** Donner un intervalle de confiance bilatéral, au niveau de confiance de $1 - \\alpha$, de la différence\n",
    "des moyennes pour les deux traitements. Comparer les résultats obtenus avec et sans l’hypothèse\n",
    "de variances égales.\n"
   ],
   "cell_type": "markdown",
   "metadata": {}
  },
  {
   "cell_type": "code",
   "execution_count": 23,
   "metadata": {},
   "outputs": [],
   "source": [
    "## Question 2."
   ]
  },
  {
   "source": [
    "3) **(1pt)** Tester l’égalité des moyennes des deux groupes de plantes qui reçoivent le traitement A et B,\n",
    "Optez pour un test bilatéral et comparez les résultats obtenus avec et sans l’hypothèse de variances\n",
    "égales. Donnez $H_0$, $H_1$ et la $p$-valeur de ces tests. Conclure."
   ],
   "cell_type": "markdown",
   "metadata": {}
  },
  {
   "cell_type": "code",
   "execution_count": 24,
   "metadata": {},
   "outputs": [],
   "source": [
    "## Question 3."
   ]
  },
  {
   "source": [
    "### EXERCICE 5 - Hospitalisation : Répartition des entrées"
   ],
   "cell_type": "markdown",
   "metadata": {}
  },
  {
   "source": [
    "Dans cet exercice on souhaite savoir si les entrées à l’hôpital pour une certaine maladie (la maladie **A**) sont réparties au hasard dans l’année ou bien si certains mois sont plus propices à la maladie **A**. On examine le mois d’entrée d’un échantillon de 120 porteurs de la maladie A. Les résultats sont contenus dans le fichier `Hospit.csv`. \n",
    "Écrire un code qui vous permettra de répondre à la question suivante : Peut-on affirmer avec un risque $\\alpha$ (le même $\\alpha$ qu’à l’EXERCICE 1) que \"les entrées pour la maladie **A** ne se font pas au hasard dans l’année\" ? Vous inclurez des commentaires dans votre code et vous indiquerez clairement $H_0$, $H_1$, le test utilisé et la $p$-value de ce test ainsi que la conclusion que vous pouvez en tirer.\n"
   ],
   "cell_type": "markdown",
   "metadata": {}
  },
  {
   "cell_type": "code",
   "execution_count": 25,
   "metadata": {},
   "outputs": [
    {
     "output_type": "stream",
     "name": "stdout",
     "text": [
      "    Mois_hospit Maladie\n",
      "ID                     \n",
      "1       Janvier       A\n",
      "2       Janvier       A\n",
      "3       Juillet       B\n",
      "4      Novembre       A\n",
      "5          Mars       A\n",
      "..          ...     ...\n",
      "147     Janvier       A\n",
      "148     Juillet       A\n",
      "149       Avril       A\n",
      "150     Fevrier       A\n",
      "151        Aout       A\n",
      "\n",
      "[151 rows x 2 columns]\n"
     ]
    }
   ],
   "source": [
    "url = \"http://josephsalmon.eu/enseignement/datasets/Hospit.csv\"\n",
    "\n",
    "hospit = pd.read_csv(url, sep = ';', index_col = 0)\n",
    "\n",
    "print(hospit)\n",
    "\n",
    "##Bastien fait la suite"
   ]
  },
  {
   "source": [
    "### EXERCICE 6 - Arbres : taille et volume (6.5 pts)"
   ],
   "cell_type": "markdown",
   "metadata": {}
  },
  {
   "source": [
    "Un étudiant en techniques forestières veut utiliser la régression linéaire pour estimer le volume en bois utilisable d’un arbre debout en fonction de l’aire du tronc mesurée à 25 cm du sol. Il a choisi au hasard 10 arbres et a mesuré, à la base, l’aire correspondante (en cm2). Il a par la suite enregistré, une fois l’arbre coupé, le volume correspondant en $m^3$.\n",
    "\n",
    "Le fichier arbres.txt contient les données. Les variables sont vol et aire qui représentent respectivement le volume utilisable et l’aire à la base du tronc.\n",
    "\n",
    "Le but de cet exercice est d’étudier la variable vol en fonction de la variable aire.\n"
   ],
   "cell_type": "markdown",
   "metadata": {}
  },
  {
   "source": [
    "1) **(0.25 pts)** Importez automatiquement le jeu de donnée `arbres.txt` dans un dataframe que vous nommerez `df_arbres`"
   ],
   "cell_type": "markdown",
   "metadata": {}
  },
  {
   "cell_type": "code",
   "execution_count": 26,
   "metadata": {},
   "outputs": [],
   "source": [
    "## Question 1.\n",
    "url = \"http://josephsalmon.eu/enseignement/datasets/arbres.txt\"\n",
    "\n",
    "df_arbres = np.genfromtxt(url, delimiter=' ', names=True)\n",
    "\n",
    "df_arbres = pd.DataFrame(df_arbres)"
   ]
  },
  {
   "source": [
    "2) **(1pt)** Ajustez le modèle linéaire qui explique la variable `vol` (en ordonnée) par la variable `aire` (en abscisse). Donner la valeur de la pente estimée ainsi que celle de l’ordonnée à l’origine. "
   ],
   "cell_type": "markdown",
   "metadata": {}
  },
  {
   "cell_type": "code",
   "execution_count": 27,
   "metadata": {},
   "outputs": [
    {
     "output_type": "stream",
     "name": "stdout",
     "text": [
      "Le coefficient directeur estimé de ma regression linéaire est R = 0.000490810166914014, et l'ordonnée à l'origine estimée est b = 0.00523255831858431\n"
     ]
    }
   ],
   "source": [
    "## Question 2.\n",
    "# Je génère mon modèle de regression linéaire avec statsmodels\n",
    "results = smf.ols(\"vol ~ aire\", data=df_arbres).fit()\n",
    "\n",
    "coefs_regression_lineaire = results.params\n",
    "print(\"Le coefficient directeur estimé de ma regression linéaire est R = \" + str(coefs_regression_lineaire['aire']) + \", et l'ordonnée à l'origine estimée est b = \" + str(coefs_regression_lineaire['Intercept']))"
   ]
  },
  {
   "source": [
    "3) **(1pt)** Représentez le nuage des points du volume (en ordonnée) en fonction de l’aire (en abscisse) ainsi que la droite d’ajustement des moindres carrés. On prendra soin aux légendes, au titre, aux noms des axes, etc."
   ],
   "cell_type": "markdown",
   "metadata": {}
  },
  {
   "cell_type": "code",
   "execution_count": 28,
   "metadata": {},
   "outputs": [
    {
     "output_type": "display_data",
     "data": {
      "text/plain": "<Figure size 720x504 with 1 Axes>",
      "image/svg+xml": "<?xml version=\"1.0\" encoding=\"utf-8\" standalone=\"no\"?>\r\n<!DOCTYPE svg PUBLIC \"-//W3C//DTD SVG 1.1//EN\"\r\n  \"http://www.w3.org/Graphics/SVG/1.1/DTD/svg11.dtd\">\r\n<!-- Created with matplotlib (https://matplotlib.org/) -->\r\n<svg height=\"495.274375pt\" version=\"1.1\" viewBox=\"0 0 712.675 495.274375\" width=\"712.675pt\" xmlns=\"http://www.w3.org/2000/svg\" xmlns:xlink=\"http://www.w3.org/1999/xlink\">\r\n <defs>\r\n  <style type=\"text/css\">\r\n*{stroke-linecap:butt;stroke-linejoin:round;}\r\n  </style>\r\n </defs>\r\n <g id=\"figure_1\">\r\n  <g id=\"patch_1\">\r\n   <path d=\"M 0 495.274375 \r\nL 712.675 495.274375 \r\nL 712.675 0 \r\nL 0 0 \r\nz\r\n\" style=\"fill:none;\"/>\r\n  </g>\r\n  <g id=\"axes_1\">\r\n   <g id=\"patch_2\">\r\n    <path d=\"M 43.78125 457.718125 \r\nL 695.93125 457.718125 \r\nL 695.93125 22.318125 \r\nL 43.78125 22.318125 \r\nz\r\n\" style=\"fill:#ffffff;\"/>\r\n   </g>\r\n   <g id=\"matplotlib.axis_1\">\r\n    <g id=\"xtick_1\">\r\n     <g id=\"line2d_1\">\r\n      <defs>\r\n       <path d=\"M 0 0 \r\nL 0 3.5 \r\n\" id=\"m964a4a589f\" style=\"stroke:#000000;stroke-width:0.8;\"/>\r\n      </defs>\r\n      <g>\r\n       <use style=\"stroke:#000000;stroke-width:0.8;\" x=\"43.78125\" xlink:href=\"#m964a4a589f\" y=\"457.718125\"/>\r\n      </g>\r\n     </g>\r\n     <g id=\"text_1\">\r\n      <!-- 100 -->\r\n      <defs>\r\n       <path d=\"M 12.40625 8.296875 \r\nL 28.515625 8.296875 \r\nL 28.515625 63.921875 \r\nL 10.984375 60.40625 \r\nL 10.984375 69.390625 \r\nL 28.421875 72.90625 \r\nL 38.28125 72.90625 \r\nL 38.28125 8.296875 \r\nL 54.390625 8.296875 \r\nL 54.390625 0 \r\nL 12.40625 0 \r\nz\r\n\" id=\"DejaVuSans-49\"/>\r\n       <path d=\"M 31.78125 66.40625 \r\nQ 24.171875 66.40625 20.328125 58.90625 \r\nQ 16.5 51.421875 16.5 36.375 \r\nQ 16.5 21.390625 20.328125 13.890625 \r\nQ 24.171875 6.390625 31.78125 6.390625 \r\nQ 39.453125 6.390625 43.28125 13.890625 \r\nQ 47.125 21.390625 47.125 36.375 \r\nQ 47.125 51.421875 43.28125 58.90625 \r\nQ 39.453125 66.40625 31.78125 66.40625 \r\nz\r\nM 31.78125 74.21875 \r\nQ 44.046875 74.21875 50.515625 64.515625 \r\nQ 56.984375 54.828125 56.984375 36.375 \r\nQ 56.984375 17.96875 50.515625 8.265625 \r\nQ 44.046875 -1.421875 31.78125 -1.421875 \r\nQ 19.53125 -1.421875 13.0625 8.265625 \r\nQ 6.59375 17.96875 6.59375 36.375 \r\nQ 6.59375 54.828125 13.0625 64.515625 \r\nQ 19.53125 74.21875 31.78125 74.21875 \r\nz\r\n\" id=\"DejaVuSans-48\"/>\r\n      </defs>\r\n      <g transform=\"translate(34.2375 472.316562)scale(0.1 -0.1)\">\r\n       <use xlink:href=\"#DejaVuSans-49\"/>\r\n       <use x=\"63.623047\" xlink:href=\"#DejaVuSans-48\"/>\r\n       <use x=\"127.246094\" xlink:href=\"#DejaVuSans-48\"/>\r\n      </g>\r\n     </g>\r\n    </g>\r\n    <g id=\"xtick_2\">\r\n     <g id=\"line2d_2\">\r\n      <g>\r\n       <use style=\"stroke:#000000;stroke-width:0.8;\" x=\"136.945536\" xlink:href=\"#m964a4a589f\" y=\"457.718125\"/>\r\n      </g>\r\n     </g>\r\n     <g id=\"text_2\">\r\n      <!-- 200 -->\r\n      <defs>\r\n       <path d=\"M 19.1875 8.296875 \r\nL 53.609375 8.296875 \r\nL 53.609375 0 \r\nL 7.328125 0 \r\nL 7.328125 8.296875 \r\nQ 12.9375 14.109375 22.625 23.890625 \r\nQ 32.328125 33.6875 34.8125 36.53125 \r\nQ 39.546875 41.84375 41.421875 45.53125 \r\nQ 43.3125 49.21875 43.3125 52.78125 \r\nQ 43.3125 58.59375 39.234375 62.25 \r\nQ 35.15625 65.921875 28.609375 65.921875 \r\nQ 23.96875 65.921875 18.8125 64.3125 \r\nQ 13.671875 62.703125 7.8125 59.421875 \r\nL 7.8125 69.390625 \r\nQ 13.765625 71.78125 18.9375 73 \r\nQ 24.125 74.21875 28.421875 74.21875 \r\nQ 39.75 74.21875 46.484375 68.546875 \r\nQ 53.21875 62.890625 53.21875 53.421875 \r\nQ 53.21875 48.921875 51.53125 44.890625 \r\nQ 49.859375 40.875 45.40625 35.40625 \r\nQ 44.1875 33.984375 37.640625 27.21875 \r\nQ 31.109375 20.453125 19.1875 8.296875 \r\nz\r\n\" id=\"DejaVuSans-50\"/>\r\n      </defs>\r\n      <g transform=\"translate(127.401786 472.316562)scale(0.1 -0.1)\">\r\n       <use xlink:href=\"#DejaVuSans-50\"/>\r\n       <use x=\"63.623047\" xlink:href=\"#DejaVuSans-48\"/>\r\n       <use x=\"127.246094\" xlink:href=\"#DejaVuSans-48\"/>\r\n      </g>\r\n     </g>\r\n    </g>\r\n    <g id=\"xtick_3\">\r\n     <g id=\"line2d_3\">\r\n      <g>\r\n       <use style=\"stroke:#000000;stroke-width:0.8;\" x=\"230.109821\" xlink:href=\"#m964a4a589f\" y=\"457.718125\"/>\r\n      </g>\r\n     </g>\r\n     <g id=\"text_3\">\r\n      <!-- 300 -->\r\n      <defs>\r\n       <path d=\"M 40.578125 39.3125 \r\nQ 47.65625 37.796875 51.625 33 \r\nQ 55.609375 28.21875 55.609375 21.1875 \r\nQ 55.609375 10.40625 48.1875 4.484375 \r\nQ 40.765625 -1.421875 27.09375 -1.421875 \r\nQ 22.515625 -1.421875 17.65625 -0.515625 \r\nQ 12.796875 0.390625 7.625 2.203125 \r\nL 7.625 11.71875 \r\nQ 11.71875 9.328125 16.59375 8.109375 \r\nQ 21.484375 6.890625 26.8125 6.890625 \r\nQ 36.078125 6.890625 40.9375 10.546875 \r\nQ 45.796875 14.203125 45.796875 21.1875 \r\nQ 45.796875 27.640625 41.28125 31.265625 \r\nQ 36.765625 34.90625 28.71875 34.90625 \r\nL 20.21875 34.90625 \r\nL 20.21875 43.015625 \r\nL 29.109375 43.015625 \r\nQ 36.375 43.015625 40.234375 45.921875 \r\nQ 44.09375 48.828125 44.09375 54.296875 \r\nQ 44.09375 59.90625 40.109375 62.90625 \r\nQ 36.140625 65.921875 28.71875 65.921875 \r\nQ 24.65625 65.921875 20.015625 65.03125 \r\nQ 15.375 64.15625 9.8125 62.3125 \r\nL 9.8125 71.09375 \r\nQ 15.4375 72.65625 20.34375 73.4375 \r\nQ 25.25 74.21875 29.59375 74.21875 \r\nQ 40.828125 74.21875 47.359375 69.109375 \r\nQ 53.90625 64.015625 53.90625 55.328125 \r\nQ 53.90625 49.265625 50.4375 45.09375 \r\nQ 46.96875 40.921875 40.578125 39.3125 \r\nz\r\n\" id=\"DejaVuSans-51\"/>\r\n      </defs>\r\n      <g transform=\"translate(220.566071 472.316562)scale(0.1 -0.1)\">\r\n       <use xlink:href=\"#DejaVuSans-51\"/>\r\n       <use x=\"63.623047\" xlink:href=\"#DejaVuSans-48\"/>\r\n       <use x=\"127.246094\" xlink:href=\"#DejaVuSans-48\"/>\r\n      </g>\r\n     </g>\r\n    </g>\r\n    <g id=\"xtick_4\">\r\n     <g id=\"line2d_4\">\r\n      <g>\r\n       <use style=\"stroke:#000000;stroke-width:0.8;\" x=\"323.274107\" xlink:href=\"#m964a4a589f\" y=\"457.718125\"/>\r\n      </g>\r\n     </g>\r\n     <g id=\"text_4\">\r\n      <!-- 400 -->\r\n      <defs>\r\n       <path d=\"M 37.796875 64.3125 \r\nL 12.890625 25.390625 \r\nL 37.796875 25.390625 \r\nz\r\nM 35.203125 72.90625 \r\nL 47.609375 72.90625 \r\nL 47.609375 25.390625 \r\nL 58.015625 25.390625 \r\nL 58.015625 17.1875 \r\nL 47.609375 17.1875 \r\nL 47.609375 0 \r\nL 37.796875 0 \r\nL 37.796875 17.1875 \r\nL 4.890625 17.1875 \r\nL 4.890625 26.703125 \r\nz\r\n\" id=\"DejaVuSans-52\"/>\r\n      </defs>\r\n      <g transform=\"translate(313.730357 472.316562)scale(0.1 -0.1)\">\r\n       <use xlink:href=\"#DejaVuSans-52\"/>\r\n       <use x=\"63.623047\" xlink:href=\"#DejaVuSans-48\"/>\r\n       <use x=\"127.246094\" xlink:href=\"#DejaVuSans-48\"/>\r\n      </g>\r\n     </g>\r\n    </g>\r\n    <g id=\"xtick_5\">\r\n     <g id=\"line2d_5\">\r\n      <g>\r\n       <use style=\"stroke:#000000;stroke-width:0.8;\" x=\"416.438393\" xlink:href=\"#m964a4a589f\" y=\"457.718125\"/>\r\n      </g>\r\n     </g>\r\n     <g id=\"text_5\">\r\n      <!-- 500 -->\r\n      <defs>\r\n       <path d=\"M 10.796875 72.90625 \r\nL 49.515625 72.90625 \r\nL 49.515625 64.59375 \r\nL 19.828125 64.59375 \r\nL 19.828125 46.734375 \r\nQ 21.96875 47.46875 24.109375 47.828125 \r\nQ 26.265625 48.1875 28.421875 48.1875 \r\nQ 40.625 48.1875 47.75 41.5 \r\nQ 54.890625 34.8125 54.890625 23.390625 \r\nQ 54.890625 11.625 47.5625 5.09375 \r\nQ 40.234375 -1.421875 26.90625 -1.421875 \r\nQ 22.3125 -1.421875 17.546875 -0.640625 \r\nQ 12.796875 0.140625 7.71875 1.703125 \r\nL 7.71875 11.625 \r\nQ 12.109375 9.234375 16.796875 8.0625 \r\nQ 21.484375 6.890625 26.703125 6.890625 \r\nQ 35.15625 6.890625 40.078125 11.328125 \r\nQ 45.015625 15.765625 45.015625 23.390625 \r\nQ 45.015625 31 40.078125 35.4375 \r\nQ 35.15625 39.890625 26.703125 39.890625 \r\nQ 22.75 39.890625 18.8125 39.015625 \r\nQ 14.890625 38.140625 10.796875 36.28125 \r\nz\r\n\" id=\"DejaVuSans-53\"/>\r\n      </defs>\r\n      <g transform=\"translate(406.894643 472.316562)scale(0.1 -0.1)\">\r\n       <use xlink:href=\"#DejaVuSans-53\"/>\r\n       <use x=\"63.623047\" xlink:href=\"#DejaVuSans-48\"/>\r\n       <use x=\"127.246094\" xlink:href=\"#DejaVuSans-48\"/>\r\n      </g>\r\n     </g>\r\n    </g>\r\n    <g id=\"xtick_6\">\r\n     <g id=\"line2d_6\">\r\n      <g>\r\n       <use style=\"stroke:#000000;stroke-width:0.8;\" x=\"509.602679\" xlink:href=\"#m964a4a589f\" y=\"457.718125\"/>\r\n      </g>\r\n     </g>\r\n     <g id=\"text_6\">\r\n      <!-- 600 -->\r\n      <defs>\r\n       <path d=\"M 33.015625 40.375 \r\nQ 26.375 40.375 22.484375 35.828125 \r\nQ 18.609375 31.296875 18.609375 23.390625 \r\nQ 18.609375 15.53125 22.484375 10.953125 \r\nQ 26.375 6.390625 33.015625 6.390625 \r\nQ 39.65625 6.390625 43.53125 10.953125 \r\nQ 47.40625 15.53125 47.40625 23.390625 \r\nQ 47.40625 31.296875 43.53125 35.828125 \r\nQ 39.65625 40.375 33.015625 40.375 \r\nz\r\nM 52.59375 71.296875 \r\nL 52.59375 62.3125 \r\nQ 48.875 64.0625 45.09375 64.984375 \r\nQ 41.3125 65.921875 37.59375 65.921875 \r\nQ 27.828125 65.921875 22.671875 59.328125 \r\nQ 17.53125 52.734375 16.796875 39.40625 \r\nQ 19.671875 43.65625 24.015625 45.921875 \r\nQ 28.375 48.1875 33.59375 48.1875 \r\nQ 44.578125 48.1875 50.953125 41.515625 \r\nQ 57.328125 34.859375 57.328125 23.390625 \r\nQ 57.328125 12.15625 50.6875 5.359375 \r\nQ 44.046875 -1.421875 33.015625 -1.421875 \r\nQ 20.359375 -1.421875 13.671875 8.265625 \r\nQ 6.984375 17.96875 6.984375 36.375 \r\nQ 6.984375 53.65625 15.1875 63.9375 \r\nQ 23.390625 74.21875 37.203125 74.21875 \r\nQ 40.921875 74.21875 44.703125 73.484375 \r\nQ 48.484375 72.75 52.59375 71.296875 \r\nz\r\n\" id=\"DejaVuSans-54\"/>\r\n      </defs>\r\n      <g transform=\"translate(500.058929 472.316562)scale(0.1 -0.1)\">\r\n       <use xlink:href=\"#DejaVuSans-54\"/>\r\n       <use x=\"63.623047\" xlink:href=\"#DejaVuSans-48\"/>\r\n       <use x=\"127.246094\" xlink:href=\"#DejaVuSans-48\"/>\r\n      </g>\r\n     </g>\r\n    </g>\r\n    <g id=\"xtick_7\">\r\n     <g id=\"line2d_7\">\r\n      <g>\r\n       <use style=\"stroke:#000000;stroke-width:0.8;\" x=\"602.766964\" xlink:href=\"#m964a4a589f\" y=\"457.718125\"/>\r\n      </g>\r\n     </g>\r\n     <g id=\"text_7\">\r\n      <!-- 700 -->\r\n      <defs>\r\n       <path d=\"M 8.203125 72.90625 \r\nL 55.078125 72.90625 \r\nL 55.078125 68.703125 \r\nL 28.609375 0 \r\nL 18.3125 0 \r\nL 43.21875 64.59375 \r\nL 8.203125 64.59375 \r\nz\r\n\" id=\"DejaVuSans-55\"/>\r\n      </defs>\r\n      <g transform=\"translate(593.223214 472.316562)scale(0.1 -0.1)\">\r\n       <use xlink:href=\"#DejaVuSans-55\"/>\r\n       <use x=\"63.623047\" xlink:href=\"#DejaVuSans-48\"/>\r\n       <use x=\"127.246094\" xlink:href=\"#DejaVuSans-48\"/>\r\n      </g>\r\n     </g>\r\n    </g>\r\n    <g id=\"xtick_8\">\r\n     <g id=\"line2d_8\">\r\n      <g>\r\n       <use style=\"stroke:#000000;stroke-width:0.8;\" x=\"695.93125\" xlink:href=\"#m964a4a589f\" y=\"457.718125\"/>\r\n      </g>\r\n     </g>\r\n     <g id=\"text_8\">\r\n      <!-- 800 -->\r\n      <defs>\r\n       <path d=\"M 31.78125 34.625 \r\nQ 24.75 34.625 20.71875 30.859375 \r\nQ 16.703125 27.09375 16.703125 20.515625 \r\nQ 16.703125 13.921875 20.71875 10.15625 \r\nQ 24.75 6.390625 31.78125 6.390625 \r\nQ 38.8125 6.390625 42.859375 10.171875 \r\nQ 46.921875 13.96875 46.921875 20.515625 \r\nQ 46.921875 27.09375 42.890625 30.859375 \r\nQ 38.875 34.625 31.78125 34.625 \r\nz\r\nM 21.921875 38.8125 \r\nQ 15.578125 40.375 12.03125 44.71875 \r\nQ 8.5 49.078125 8.5 55.328125 \r\nQ 8.5 64.0625 14.71875 69.140625 \r\nQ 20.953125 74.21875 31.78125 74.21875 \r\nQ 42.671875 74.21875 48.875 69.140625 \r\nQ 55.078125 64.0625 55.078125 55.328125 \r\nQ 55.078125 49.078125 51.53125 44.71875 \r\nQ 48 40.375 41.703125 38.8125 \r\nQ 48.828125 37.15625 52.796875 32.3125 \r\nQ 56.78125 27.484375 56.78125 20.515625 \r\nQ 56.78125 9.90625 50.3125 4.234375 \r\nQ 43.84375 -1.421875 31.78125 -1.421875 \r\nQ 19.734375 -1.421875 13.25 4.234375 \r\nQ 6.78125 9.90625 6.78125 20.515625 \r\nQ 6.78125 27.484375 10.78125 32.3125 \r\nQ 14.796875 37.15625 21.921875 38.8125 \r\nz\r\nM 18.3125 54.390625 \r\nQ 18.3125 48.734375 21.84375 45.5625 \r\nQ 25.390625 42.390625 31.78125 42.390625 \r\nQ 38.140625 42.390625 41.71875 45.5625 \r\nQ 45.3125 48.734375 45.3125 54.390625 \r\nQ 45.3125 60.0625 41.71875 63.234375 \r\nQ 38.140625 66.40625 31.78125 66.40625 \r\nQ 25.390625 66.40625 21.84375 63.234375 \r\nQ 18.3125 60.0625 18.3125 54.390625 \r\nz\r\n\" id=\"DejaVuSans-56\"/>\r\n      </defs>\r\n      <g transform=\"translate(686.3875 472.316562)scale(0.1 -0.1)\">\r\n       <use xlink:href=\"#DejaVuSans-56\"/>\r\n       <use x=\"63.623047\" xlink:href=\"#DejaVuSans-48\"/>\r\n       <use x=\"127.246094\" xlink:href=\"#DejaVuSans-48\"/>\r\n      </g>\r\n     </g>\r\n    </g>\r\n    <g id=\"text_9\">\r\n     <!-- Aire (en mètre carré) -->\r\n     <defs>\r\n      <path d=\"M 34.1875 63.1875 \r\nL 20.796875 26.90625 \r\nL 47.609375 26.90625 \r\nz\r\nM 28.609375 72.90625 \r\nL 39.796875 72.90625 \r\nL 67.578125 0 \r\nL 57.328125 0 \r\nL 50.6875 18.703125 \r\nL 17.828125 18.703125 \r\nL 11.1875 0 \r\nL 0.78125 0 \r\nz\r\n\" id=\"DejaVuSans-65\"/>\r\n      <path d=\"M 9.421875 54.6875 \r\nL 18.40625 54.6875 \r\nL 18.40625 0 \r\nL 9.421875 0 \r\nz\r\nM 9.421875 75.984375 \r\nL 18.40625 75.984375 \r\nL 18.40625 64.59375 \r\nL 9.421875 64.59375 \r\nz\r\n\" id=\"DejaVuSans-105\"/>\r\n      <path d=\"M 41.109375 46.296875 \r\nQ 39.59375 47.171875 37.8125 47.578125 \r\nQ 36.03125 48 33.890625 48 \r\nQ 26.265625 48 22.1875 43.046875 \r\nQ 18.109375 38.09375 18.109375 28.8125 \r\nL 18.109375 0 \r\nL 9.078125 0 \r\nL 9.078125 54.6875 \r\nL 18.109375 54.6875 \r\nL 18.109375 46.1875 \r\nQ 20.953125 51.171875 25.484375 53.578125 \r\nQ 30.03125 56 36.53125 56 \r\nQ 37.453125 56 38.578125 55.875 \r\nQ 39.703125 55.765625 41.0625 55.515625 \r\nz\r\n\" id=\"DejaVuSans-114\"/>\r\n      <path d=\"M 56.203125 29.59375 \r\nL 56.203125 25.203125 \r\nL 14.890625 25.203125 \r\nQ 15.484375 15.921875 20.484375 11.0625 \r\nQ 25.484375 6.203125 34.421875 6.203125 \r\nQ 39.59375 6.203125 44.453125 7.46875 \r\nQ 49.3125 8.734375 54.109375 11.28125 \r\nL 54.109375 2.78125 \r\nQ 49.265625 0.734375 44.1875 -0.34375 \r\nQ 39.109375 -1.421875 33.890625 -1.421875 \r\nQ 20.796875 -1.421875 13.15625 6.1875 \r\nQ 5.515625 13.8125 5.515625 26.8125 \r\nQ 5.515625 40.234375 12.765625 48.109375 \r\nQ 20.015625 56 32.328125 56 \r\nQ 43.359375 56 49.78125 48.890625 \r\nQ 56.203125 41.796875 56.203125 29.59375 \r\nz\r\nM 47.21875 32.234375 \r\nQ 47.125 39.59375 43.09375 43.984375 \r\nQ 39.0625 48.390625 32.421875 48.390625 \r\nQ 24.90625 48.390625 20.390625 44.140625 \r\nQ 15.875 39.890625 15.1875 32.171875 \r\nz\r\n\" id=\"DejaVuSans-101\"/>\r\n      <path id=\"DejaVuSans-32\"/>\r\n      <path d=\"M 31 75.875 \r\nQ 24.46875 64.65625 21.28125 53.65625 \r\nQ 18.109375 42.671875 18.109375 31.390625 \r\nQ 18.109375 20.125 21.3125 9.0625 \r\nQ 24.515625 -2 31 -13.1875 \r\nL 23.1875 -13.1875 \r\nQ 15.875 -1.703125 12.234375 9.375 \r\nQ 8.59375 20.453125 8.59375 31.390625 \r\nQ 8.59375 42.28125 12.203125 53.3125 \r\nQ 15.828125 64.359375 23.1875 75.875 \r\nz\r\n\" id=\"DejaVuSans-40\"/>\r\n      <path d=\"M 54.890625 33.015625 \r\nL 54.890625 0 \r\nL 45.90625 0 \r\nL 45.90625 32.71875 \r\nQ 45.90625 40.484375 42.875 44.328125 \r\nQ 39.84375 48.1875 33.796875 48.1875 \r\nQ 26.515625 48.1875 22.3125 43.546875 \r\nQ 18.109375 38.921875 18.109375 30.90625 \r\nL 18.109375 0 \r\nL 9.078125 0 \r\nL 9.078125 54.6875 \r\nL 18.109375 54.6875 \r\nL 18.109375 46.1875 \r\nQ 21.34375 51.125 25.703125 53.5625 \r\nQ 30.078125 56 35.796875 56 \r\nQ 45.21875 56 50.046875 50.171875 \r\nQ 54.890625 44.34375 54.890625 33.015625 \r\nz\r\n\" id=\"DejaVuSans-110\"/>\r\n      <path d=\"M 52 44.1875 \r\nQ 55.375 50.25 60.0625 53.125 \r\nQ 64.75 56 71.09375 56 \r\nQ 79.640625 56 84.28125 50.015625 \r\nQ 88.921875 44.046875 88.921875 33.015625 \r\nL 88.921875 0 \r\nL 79.890625 0 \r\nL 79.890625 32.71875 \r\nQ 79.890625 40.578125 77.09375 44.375 \r\nQ 74.3125 48.1875 68.609375 48.1875 \r\nQ 61.625 48.1875 57.5625 43.546875 \r\nQ 53.515625 38.921875 53.515625 30.90625 \r\nL 53.515625 0 \r\nL 44.484375 0 \r\nL 44.484375 32.71875 \r\nQ 44.484375 40.625 41.703125 44.40625 \r\nQ 38.921875 48.1875 33.109375 48.1875 \r\nQ 26.21875 48.1875 22.15625 43.53125 \r\nQ 18.109375 38.875 18.109375 30.90625 \r\nL 18.109375 0 \r\nL 9.078125 0 \r\nL 9.078125 54.6875 \r\nL 18.109375 54.6875 \r\nL 18.109375 46.1875 \r\nQ 21.1875 51.21875 25.484375 53.609375 \r\nQ 29.78125 56 35.6875 56 \r\nQ 41.65625 56 45.828125 52.96875 \r\nQ 50 49.953125 52 44.1875 \r\nz\r\n\" id=\"DejaVuSans-109\"/>\r\n      <path d=\"M 56.203125 29.59375 \r\nL 56.203125 25.203125 \r\nL 14.890625 25.203125 \r\nQ 15.484375 15.921875 20.484375 11.0625 \r\nQ 25.484375 6.203125 34.421875 6.203125 \r\nQ 39.59375 6.203125 44.453125 7.46875 \r\nQ 49.3125 8.734375 54.109375 11.28125 \r\nL 54.109375 2.78125 \r\nQ 49.265625 0.734375 44.1875 -0.34375 \r\nQ 39.109375 -1.421875 33.890625 -1.421875 \r\nQ 20.796875 -1.421875 13.15625 6.1875 \r\nQ 5.515625 13.8125 5.515625 26.8125 \r\nQ 5.515625 40.234375 12.765625 48.109375 \r\nQ 20.015625 56 32.328125 56 \r\nQ 43.359375 56 49.78125 48.890625 \r\nQ 56.203125 41.796875 56.203125 29.59375 \r\nz\r\nM 47.21875 32.234375 \r\nQ 47.125 39.59375 43.09375 43.984375 \r\nQ 39.0625 48.390625 32.421875 48.390625 \r\nQ 24.90625 48.390625 20.390625 44.140625 \r\nQ 15.875 39.890625 15.1875 32.171875 \r\nz\r\nM 24.703125 79.984375 \r\nL 38.484375 61.71875 \r\nL 31 61.71875 \r\nL 15.09375 79.984375 \r\nz\r\n\" id=\"DejaVuSans-232\"/>\r\n      <path d=\"M 18.3125 70.21875 \r\nL 18.3125 54.6875 \r\nL 36.8125 54.6875 \r\nL 36.8125 47.703125 \r\nL 18.3125 47.703125 \r\nL 18.3125 18.015625 \r\nQ 18.3125 11.328125 20.140625 9.421875 \r\nQ 21.96875 7.515625 27.59375 7.515625 \r\nL 36.8125 7.515625 \r\nL 36.8125 0 \r\nL 27.59375 0 \r\nQ 17.1875 0 13.234375 3.875 \r\nQ 9.28125 7.765625 9.28125 18.015625 \r\nL 9.28125 47.703125 \r\nL 2.6875 47.703125 \r\nL 2.6875 54.6875 \r\nL 9.28125 54.6875 \r\nL 9.28125 70.21875 \r\nz\r\n\" id=\"DejaVuSans-116\"/>\r\n      <path d=\"M 48.78125 52.59375 \r\nL 48.78125 44.1875 \r\nQ 44.96875 46.296875 41.140625 47.34375 \r\nQ 37.3125 48.390625 33.40625 48.390625 \r\nQ 24.65625 48.390625 19.8125 42.84375 \r\nQ 14.984375 37.3125 14.984375 27.296875 \r\nQ 14.984375 17.28125 19.8125 11.734375 \r\nQ 24.65625 6.203125 33.40625 6.203125 \r\nQ 37.3125 6.203125 41.140625 7.25 \r\nQ 44.96875 8.296875 48.78125 10.40625 \r\nL 48.78125 2.09375 \r\nQ 45.015625 0.34375 40.984375 -0.53125 \r\nQ 36.96875 -1.421875 32.421875 -1.421875 \r\nQ 20.0625 -1.421875 12.78125 6.34375 \r\nQ 5.515625 14.109375 5.515625 27.296875 \r\nQ 5.515625 40.671875 12.859375 48.328125 \r\nQ 20.21875 56 33.015625 56 \r\nQ 37.15625 56 41.109375 55.140625 \r\nQ 45.0625 54.296875 48.78125 52.59375 \r\nz\r\n\" id=\"DejaVuSans-99\"/>\r\n      <path d=\"M 34.28125 27.484375 \r\nQ 23.390625 27.484375 19.1875 25 \r\nQ 14.984375 22.515625 14.984375 16.5 \r\nQ 14.984375 11.71875 18.140625 8.90625 \r\nQ 21.296875 6.109375 26.703125 6.109375 \r\nQ 34.1875 6.109375 38.703125 11.40625 \r\nQ 43.21875 16.703125 43.21875 25.484375 \r\nL 43.21875 27.484375 \r\nz\r\nM 52.203125 31.203125 \r\nL 52.203125 0 \r\nL 43.21875 0 \r\nL 43.21875 8.296875 \r\nQ 40.140625 3.328125 35.546875 0.953125 \r\nQ 30.953125 -1.421875 24.3125 -1.421875 \r\nQ 15.921875 -1.421875 10.953125 3.296875 \r\nQ 6 8.015625 6 15.921875 \r\nQ 6 25.140625 12.171875 29.828125 \r\nQ 18.359375 34.515625 30.609375 34.515625 \r\nL 43.21875 34.515625 \r\nL 43.21875 35.40625 \r\nQ 43.21875 41.609375 39.140625 45 \r\nQ 35.0625 48.390625 27.6875 48.390625 \r\nQ 23 48.390625 18.546875 47.265625 \r\nQ 14.109375 46.140625 10.015625 43.890625 \r\nL 10.015625 52.203125 \r\nQ 14.9375 54.109375 19.578125 55.046875 \r\nQ 24.21875 56 28.609375 56 \r\nQ 40.484375 56 46.34375 49.84375 \r\nQ 52.203125 43.703125 52.203125 31.203125 \r\nz\r\n\" id=\"DejaVuSans-97\"/>\r\n      <path d=\"M 56.203125 29.59375 \r\nL 56.203125 25.203125 \r\nL 14.890625 25.203125 \r\nQ 15.484375 15.921875 20.484375 11.0625 \r\nQ 25.484375 6.203125 34.421875 6.203125 \r\nQ 39.59375 6.203125 44.453125 7.46875 \r\nQ 49.3125 8.734375 54.109375 11.28125 \r\nL 54.109375 2.78125 \r\nQ 49.265625 0.734375 44.1875 -0.34375 \r\nQ 39.109375 -1.421875 33.890625 -1.421875 \r\nQ 20.796875 -1.421875 13.15625 6.1875 \r\nQ 5.515625 13.8125 5.515625 26.8125 \r\nQ 5.515625 40.234375 12.765625 48.109375 \r\nQ 20.015625 56 32.328125 56 \r\nQ 43.359375 56 49.78125 48.890625 \r\nQ 56.203125 41.796875 56.203125 29.59375 \r\nz\r\nM 47.21875 32.234375 \r\nQ 47.125 39.59375 43.09375 43.984375 \r\nQ 39.0625 48.390625 32.421875 48.390625 \r\nQ 24.90625 48.390625 20.390625 44.140625 \r\nQ 15.875 39.890625 15.1875 32.171875 \r\nz\r\nM 38.578125 79.984375 \r\nL 48.296875 79.984375 \r\nL 32.375 61.625 \r\nL 24.90625 61.625 \r\nz\r\n\" id=\"DejaVuSans-233\"/>\r\n      <path d=\"M 8.015625 75.875 \r\nL 15.828125 75.875 \r\nQ 23.140625 64.359375 26.78125 53.3125 \r\nQ 30.421875 42.28125 30.421875 31.390625 \r\nQ 30.421875 20.453125 26.78125 9.375 \r\nQ 23.140625 -1.703125 15.828125 -13.1875 \r\nL 8.015625 -13.1875 \r\nQ 14.5 -2 17.703125 9.0625 \r\nQ 20.90625 20.125 20.90625 31.390625 \r\nQ 20.90625 42.671875 17.703125 53.65625 \r\nQ 14.5 64.65625 8.015625 75.875 \r\nz\r\n\" id=\"DejaVuSans-41\"/>\r\n     </defs>\r\n     <g transform=\"translate(316.966406 485.994687)scale(0.1 -0.1)\">\r\n      <use xlink:href=\"#DejaVuSans-65\"/>\r\n      <use x=\"68.408203\" xlink:href=\"#DejaVuSans-105\"/>\r\n      <use x=\"96.191406\" xlink:href=\"#DejaVuSans-114\"/>\r\n      <use x=\"137.273438\" xlink:href=\"#DejaVuSans-101\"/>\r\n      <use x=\"198.796875\" xlink:href=\"#DejaVuSans-32\"/>\r\n      <use x=\"230.583984\" xlink:href=\"#DejaVuSans-40\"/>\r\n      <use x=\"269.597656\" xlink:href=\"#DejaVuSans-101\"/>\r\n      <use x=\"331.121094\" xlink:href=\"#DejaVuSans-110\"/>\r\n      <use x=\"394.5\" xlink:href=\"#DejaVuSans-32\"/>\r\n      <use x=\"426.287109\" xlink:href=\"#DejaVuSans-109\"/>\r\n      <use x=\"523.699219\" xlink:href=\"#DejaVuSans-232\"/>\r\n      <use x=\"585.222656\" xlink:href=\"#DejaVuSans-116\"/>\r\n      <use x=\"624.431641\" xlink:href=\"#DejaVuSans-114\"/>\r\n      <use x=\"665.513672\" xlink:href=\"#DejaVuSans-101\"/>\r\n      <use x=\"727.037109\" xlink:href=\"#DejaVuSans-32\"/>\r\n      <use x=\"758.824219\" xlink:href=\"#DejaVuSans-99\"/>\r\n      <use x=\"813.804688\" xlink:href=\"#DejaVuSans-97\"/>\r\n      <use x=\"875.083984\" xlink:href=\"#DejaVuSans-114\"/>\r\n      <use x=\"916.181641\" xlink:href=\"#DejaVuSans-114\"/>\r\n      <use x=\"957.263672\" xlink:href=\"#DejaVuSans-233\"/>\r\n      <use x=\"1018.787109\" xlink:href=\"#DejaVuSans-41\"/>\r\n     </g>\r\n    </g>\r\n   </g>\r\n   <g id=\"matplotlib.axis_2\">\r\n    <g id=\"ytick_1\">\r\n     <g id=\"line2d_9\">\r\n      <defs>\r\n       <path d=\"M 0 0 \r\nL -3.5 0 \r\n\" id=\"mc707ac0500\" style=\"stroke:#000000;stroke-width:0.8;\"/>\r\n      </defs>\r\n      <g>\r\n       <use style=\"stroke:#000000;stroke-width:0.8;\" x=\"43.78125\" xlink:href=\"#mc707ac0500\" y=\"457.718125\"/>\r\n      </g>\r\n     </g>\r\n     <g id=\"text_10\">\r\n      <!-- 0.1 -->\r\n      <defs>\r\n       <path d=\"M 10.6875 12.40625 \r\nL 21 12.40625 \r\nL 21 0 \r\nL 10.6875 0 \r\nz\r\n\" id=\"DejaVuSans-46\"/>\r\n      </defs>\r\n      <g transform=\"translate(20.878125 461.517344)scale(0.1 -0.1)\">\r\n       <use xlink:href=\"#DejaVuSans-48\"/>\r\n       <use x=\"63.623047\" xlink:href=\"#DejaVuSans-46\"/>\r\n       <use x=\"95.410156\" xlink:href=\"#DejaVuSans-49\"/>\r\n      </g>\r\n     </g>\r\n    </g>\r\n    <g id=\"ytick_2\">\r\n     <g id=\"line2d_10\">\r\n      <g>\r\n       <use style=\"stroke:#000000;stroke-width:0.8;\" x=\"43.78125\" xlink:href=\"#mc707ac0500\" y=\"370.638125\"/>\r\n      </g>\r\n     </g>\r\n     <g id=\"text_11\">\r\n      <!-- 0.2 -->\r\n      <g transform=\"translate(20.878125 374.437344)scale(0.1 -0.1)\">\r\n       <use xlink:href=\"#DejaVuSans-48\"/>\r\n       <use x=\"63.623047\" xlink:href=\"#DejaVuSans-46\"/>\r\n       <use x=\"95.410156\" xlink:href=\"#DejaVuSans-50\"/>\r\n      </g>\r\n     </g>\r\n    </g>\r\n    <g id=\"ytick_3\">\r\n     <g id=\"line2d_11\">\r\n      <g>\r\n       <use style=\"stroke:#000000;stroke-width:0.8;\" x=\"43.78125\" xlink:href=\"#mc707ac0500\" y=\"283.558125\"/>\r\n      </g>\r\n     </g>\r\n     <g id=\"text_12\">\r\n      <!-- 0.3 -->\r\n      <g transform=\"translate(20.878125 287.357344)scale(0.1 -0.1)\">\r\n       <use xlink:href=\"#DejaVuSans-48\"/>\r\n       <use x=\"63.623047\" xlink:href=\"#DejaVuSans-46\"/>\r\n       <use x=\"95.410156\" xlink:href=\"#DejaVuSans-51\"/>\r\n      </g>\r\n     </g>\r\n    </g>\r\n    <g id=\"ytick_4\">\r\n     <g id=\"line2d_12\">\r\n      <g>\r\n       <use style=\"stroke:#000000;stroke-width:0.8;\" x=\"43.78125\" xlink:href=\"#mc707ac0500\" y=\"196.478125\"/>\r\n      </g>\r\n     </g>\r\n     <g id=\"text_13\">\r\n      <!-- 0.4 -->\r\n      <g transform=\"translate(20.878125 200.277344)scale(0.1 -0.1)\">\r\n       <use xlink:href=\"#DejaVuSans-48\"/>\r\n       <use x=\"63.623047\" xlink:href=\"#DejaVuSans-46\"/>\r\n       <use x=\"95.410156\" xlink:href=\"#DejaVuSans-52\"/>\r\n      </g>\r\n     </g>\r\n    </g>\r\n    <g id=\"ytick_5\">\r\n     <g id=\"line2d_13\">\r\n      <g>\r\n       <use style=\"stroke:#000000;stroke-width:0.8;\" x=\"43.78125\" xlink:href=\"#mc707ac0500\" y=\"109.398125\"/>\r\n      </g>\r\n     </g>\r\n     <g id=\"text_14\">\r\n      <!-- 0.5 -->\r\n      <g transform=\"translate(20.878125 113.197344)scale(0.1 -0.1)\">\r\n       <use xlink:href=\"#DejaVuSans-48\"/>\r\n       <use x=\"63.623047\" xlink:href=\"#DejaVuSans-46\"/>\r\n       <use x=\"95.410156\" xlink:href=\"#DejaVuSans-53\"/>\r\n      </g>\r\n     </g>\r\n    </g>\r\n    <g id=\"ytick_6\">\r\n     <g id=\"line2d_14\">\r\n      <g>\r\n       <use style=\"stroke:#000000;stroke-width:0.8;\" x=\"43.78125\" xlink:href=\"#mc707ac0500\" y=\"22.318125\"/>\r\n      </g>\r\n     </g>\r\n     <g id=\"text_15\">\r\n      <!-- 0.6 -->\r\n      <g transform=\"translate(20.878125 26.117344)scale(0.1 -0.1)\">\r\n       <use xlink:href=\"#DejaVuSans-48\"/>\r\n       <use x=\"63.623047\" xlink:href=\"#DejaVuSans-46\"/>\r\n       <use x=\"95.410156\" xlink:href=\"#DejaVuSans-54\"/>\r\n      </g>\r\n     </g>\r\n    </g>\r\n    <g id=\"text_16\">\r\n     <!-- Volume (en mètre cube) -->\r\n     <defs>\r\n      <path d=\"M 28.609375 0 \r\nL 0.78125 72.90625 \r\nL 11.078125 72.90625 \r\nL 34.1875 11.53125 \r\nL 57.328125 72.90625 \r\nL 67.578125 72.90625 \r\nL 39.796875 0 \r\nz\r\n\" id=\"DejaVuSans-86\"/>\r\n      <path d=\"M 30.609375 48.390625 \r\nQ 23.390625 48.390625 19.1875 42.75 \r\nQ 14.984375 37.109375 14.984375 27.296875 \r\nQ 14.984375 17.484375 19.15625 11.84375 \r\nQ 23.34375 6.203125 30.609375 6.203125 \r\nQ 37.796875 6.203125 41.984375 11.859375 \r\nQ 46.1875 17.53125 46.1875 27.296875 \r\nQ 46.1875 37.015625 41.984375 42.703125 \r\nQ 37.796875 48.390625 30.609375 48.390625 \r\nz\r\nM 30.609375 56 \r\nQ 42.328125 56 49.015625 48.375 \r\nQ 55.71875 40.765625 55.71875 27.296875 \r\nQ 55.71875 13.875 49.015625 6.21875 \r\nQ 42.328125 -1.421875 30.609375 -1.421875 \r\nQ 18.84375 -1.421875 12.171875 6.21875 \r\nQ 5.515625 13.875 5.515625 27.296875 \r\nQ 5.515625 40.765625 12.171875 48.375 \r\nQ 18.84375 56 30.609375 56 \r\nz\r\n\" id=\"DejaVuSans-111\"/>\r\n      <path d=\"M 9.421875 75.984375 \r\nL 18.40625 75.984375 \r\nL 18.40625 0 \r\nL 9.421875 0 \r\nz\r\n\" id=\"DejaVuSans-108\"/>\r\n      <path d=\"M 8.5 21.578125 \r\nL 8.5 54.6875 \r\nL 17.484375 54.6875 \r\nL 17.484375 21.921875 \r\nQ 17.484375 14.15625 20.5 10.265625 \r\nQ 23.53125 6.390625 29.59375 6.390625 \r\nQ 36.859375 6.390625 41.078125 11.03125 \r\nQ 45.3125 15.671875 45.3125 23.6875 \r\nL 45.3125 54.6875 \r\nL 54.296875 54.6875 \r\nL 54.296875 0 \r\nL 45.3125 0 \r\nL 45.3125 8.40625 \r\nQ 42.046875 3.421875 37.71875 1 \r\nQ 33.40625 -1.421875 27.6875 -1.421875 \r\nQ 18.265625 -1.421875 13.375 4.4375 \r\nQ 8.5 10.296875 8.5 21.578125 \r\nz\r\nM 31.109375 56 \r\nz\r\n\" id=\"DejaVuSans-117\"/>\r\n      <path d=\"M 48.6875 27.296875 \r\nQ 48.6875 37.203125 44.609375 42.84375 \r\nQ 40.53125 48.484375 33.40625 48.484375 \r\nQ 26.265625 48.484375 22.1875 42.84375 \r\nQ 18.109375 37.203125 18.109375 27.296875 \r\nQ 18.109375 17.390625 22.1875 11.75 \r\nQ 26.265625 6.109375 33.40625 6.109375 \r\nQ 40.53125 6.109375 44.609375 11.75 \r\nQ 48.6875 17.390625 48.6875 27.296875 \r\nz\r\nM 18.109375 46.390625 \r\nQ 20.953125 51.265625 25.265625 53.625 \r\nQ 29.59375 56 35.59375 56 \r\nQ 45.5625 56 51.78125 48.09375 \r\nQ 58.015625 40.1875 58.015625 27.296875 \r\nQ 58.015625 14.40625 51.78125 6.484375 \r\nQ 45.5625 -1.421875 35.59375 -1.421875 \r\nQ 29.59375 -1.421875 25.265625 0.953125 \r\nQ 20.953125 3.328125 18.109375 8.203125 \r\nL 18.109375 0 \r\nL 9.078125 0 \r\nL 9.078125 75.984375 \r\nL 18.109375 75.984375 \r\nz\r\n\" id=\"DejaVuSans-98\"/>\r\n     </defs>\r\n     <g transform=\"translate(14.798438 301.117344)rotate(-90)scale(0.1 -0.1)\">\r\n      <use xlink:href=\"#DejaVuSans-86\"/>\r\n      <use x=\"68.298828\" xlink:href=\"#DejaVuSans-111\"/>\r\n      <use x=\"129.480469\" xlink:href=\"#DejaVuSans-108\"/>\r\n      <use x=\"157.263672\" xlink:href=\"#DejaVuSans-117\"/>\r\n      <use x=\"220.642578\" xlink:href=\"#DejaVuSans-109\"/>\r\n      <use x=\"318.054688\" xlink:href=\"#DejaVuSans-101\"/>\r\n      <use x=\"379.578125\" xlink:href=\"#DejaVuSans-32\"/>\r\n      <use x=\"411.365234\" xlink:href=\"#DejaVuSans-40\"/>\r\n      <use x=\"450.378906\" xlink:href=\"#DejaVuSans-101\"/>\r\n      <use x=\"511.902344\" xlink:href=\"#DejaVuSans-110\"/>\r\n      <use x=\"575.28125\" xlink:href=\"#DejaVuSans-32\"/>\r\n      <use x=\"607.068359\" xlink:href=\"#DejaVuSans-109\"/>\r\n      <use x=\"704.480469\" xlink:href=\"#DejaVuSans-232\"/>\r\n      <use x=\"766.003906\" xlink:href=\"#DejaVuSans-116\"/>\r\n      <use x=\"805.212891\" xlink:href=\"#DejaVuSans-114\"/>\r\n      <use x=\"846.294922\" xlink:href=\"#DejaVuSans-101\"/>\r\n      <use x=\"907.818359\" xlink:href=\"#DejaVuSans-32\"/>\r\n      <use x=\"939.605469\" xlink:href=\"#DejaVuSans-99\"/>\r\n      <use x=\"994.585938\" xlink:href=\"#DejaVuSans-117\"/>\r\n      <use x=\"1057.964844\" xlink:href=\"#DejaVuSans-98\"/>\r\n      <use x=\"1121.441406\" xlink:href=\"#DejaVuSans-101\"/>\r\n      <use x=\"1182.964844\" xlink:href=\"#DejaVuSans-41\"/>\r\n     </g>\r\n    </g>\r\n   </g>\r\n   <g id=\"line2d_15\">\r\n    <defs>\r\n     <path d=\"M 0 3 \r\nC 0.795609 3 1.55874 2.683901 2.12132 2.12132 \r\nC 2.683901 1.55874 3 0.795609 3 0 \r\nC 3 -0.795609 2.683901 -1.55874 2.12132 -2.12132 \r\nC 1.55874 -2.683901 0.795609 -3 0 -3 \r\nC -0.795609 -3 -1.55874 -2.683901 -2.12132 -2.12132 \r\nC -2.683901 -1.55874 -3 -0.795609 -3 0 \r\nC -3 0.795609 -2.683901 1.55874 -2.12132 2.12132 \r\nC -1.55874 2.683901 -0.795609 3 0 3 \r\nz\r\n\" id=\"mbe8480f5a9\" style=\"stroke:#000000;\"/>\r\n    </defs>\r\n    <g clip-path=\"url(#p7ea60b8d67)\">\r\n     <use style=\"fill:#1f77b4;stroke:#000000;\" x=\"227.314893\" xlink:href=\"#mbe8480f5a9\" y=\"412.436525\"/>\r\n     <use style=\"fill:#1f77b4;stroke:#000000;\" x=\"504.944464\" xlink:href=\"#mbe8480f5a9\" y=\"297.490925\"/>\r\n     <use style=\"fill:#1f77b4;stroke:#000000;\" x=\"297.188107\" xlink:href=\"#mbe8480f5a9\" y=\"381.958525\"/>\r\n     <use style=\"fill:#1f77b4;stroke:#000000;\" x=\"590.655607\" xlink:href=\"#mbe8480f5a9\" y=\"240.018125\"/>\r\n     <use style=\"fill:#1f77b4;stroke:#000000;\" x=\"686.614821\" xlink:href=\"#mbe8480f5a9\" y=\"182.545325\"/>\r\n     <use style=\"fill:#1f77b4;stroke:#000000;\" x=\"435.07125\" xlink:href=\"#mbe8480f5a9\" y=\"344.514125\"/>\r\n     <use style=\"fill:#1f77b4;stroke:#000000;\" x=\"391.284036\" xlink:href=\"#mbe8480f5a9\" y=\"334.064525\"/>\r\n     <use style=\"fill:#1f77b4;stroke:#000000;\" x=\"495.628036\" xlink:href=\"#mbe8480f5a9\" y=\"304.457325\"/>\r\n     <use style=\"fill:#1f77b4;stroke:#000000;\" x=\"660.528821\" xlink:href=\"#mbe8480f5a9\" y=\"211.281725\"/>\r\n     <use style=\"fill:#1f77b4;stroke:#000000;\" x=\"166.758107\" xlink:href=\"#mbe8480f5a9\" y=\"422.886125\"/>\r\n    </g>\r\n   </g>\r\n   <g id=\"line2d_16\">\r\n    <path clip-path=\"url(#p7ea60b8d67)\" d=\"M 46.456935 496.274375 \r\nL 57.090434 491.396185 \r\nL 70.399617 485.290507 \r\nL 83.708801 479.184828 \r\nL 97.017985 473.07915 \r\nL 110.327168 466.973471 \r\nL 123.636352 460.867793 \r\nL 136.945536 454.762115 \r\nL 150.254719 448.656436 \r\nL 163.563903 442.550758 \r\nL 176.873087 436.445079 \r\nL 190.18227 430.339401 \r\nL 203.491454 424.233722 \r\nL 216.800638 418.128044 \r\nL 230.109821 412.022365 \r\nL 243.419005 405.916687 \r\nL 256.728189 399.811008 \r\nL 270.037372 393.70533 \r\nL 283.346556 387.599651 \r\nL 296.65574 381.493973 \r\nL 309.964923 375.388294 \r\nL 323.274107 369.282616 \r\nL 336.583291 363.176937 \r\nL 349.892474 357.071259 \r\nL 363.201658 350.96558 \r\nL 376.510842 344.859902 \r\nL 389.820026 338.754223 \r\nL 403.129209 332.648545 \r\nL 416.438393 326.542867 \r\nL 429.747577 320.437188 \r\nL 443.05676 314.33151 \r\nL 456.365944 308.225831 \r\nL 469.675128 302.120153 \r\nL 482.984311 296.014474 \r\nL 496.293495 289.908796 \r\nL 509.602679 283.803117 \r\nL 522.911862 277.697439 \r\nL 536.221046 271.59176 \r\nL 549.53023 265.486082 \r\nL 562.839413 259.380403 \r\nL 576.148597 253.274725 \r\nL 589.457781 247.169046 \r\nL 602.766964 241.063368 \r\nL 616.076148 234.957689 \r\nL 629.385332 228.852011 \r\nL 642.694515 222.746332 \r\nL 656.003699 216.640654 \r\nL 669.312883 210.534975 \r\nL 682.622066 204.429297 \r\nL 695.93125 198.323619 \r\n\" style=\"fill:none;stroke:#008000;stroke-linecap:square;stroke-width:3;\"/>\r\n   </g>\r\n   <g id=\"patch_3\">\r\n    <path d=\"M 43.78125 457.718125 \r\nL 43.78125 22.318125 \r\n\" style=\"fill:none;stroke:#000000;stroke-linecap:square;stroke-linejoin:miter;stroke-width:0.8;\"/>\r\n   </g>\r\n   <g id=\"patch_4\">\r\n    <path d=\"M 695.93125 457.718125 \r\nL 695.93125 22.318125 \r\n\" style=\"fill:none;stroke:#000000;stroke-linecap:square;stroke-linejoin:miter;stroke-width:0.8;\"/>\r\n   </g>\r\n   <g id=\"patch_5\">\r\n    <path d=\"M 43.78125 457.718125 \r\nL 695.93125 457.718125 \r\n\" style=\"fill:none;stroke:#000000;stroke-linecap:square;stroke-linejoin:miter;stroke-width:0.8;\"/>\r\n   </g>\r\n   <g id=\"patch_6\">\r\n    <path d=\"M 43.78125 22.318125 \r\nL 695.93125 22.318125 \r\n\" style=\"fill:none;stroke:#000000;stroke-linecap:square;stroke-linejoin:miter;stroke-width:0.8;\"/>\r\n   </g>\r\n   <g id=\"text_17\">\r\n    <!-- Données et droite des moindres carrés -->\r\n    <defs>\r\n     <path d=\"M 19.671875 64.796875 \r\nL 19.671875 8.109375 \r\nL 31.59375 8.109375 \r\nQ 46.6875 8.109375 53.6875 14.9375 \r\nQ 60.6875 21.78125 60.6875 36.53125 \r\nQ 60.6875 51.171875 53.6875 57.984375 \r\nQ 46.6875 64.796875 31.59375 64.796875 \r\nz\r\nM 9.8125 72.90625 \r\nL 30.078125 72.90625 \r\nQ 51.265625 72.90625 61.171875 64.09375 \r\nQ 71.09375 55.28125 71.09375 36.53125 \r\nQ 71.09375 17.671875 61.125 8.828125 \r\nQ 51.171875 0 30.078125 0 \r\nL 9.8125 0 \r\nz\r\n\" id=\"DejaVuSans-68\"/>\r\n     <path d=\"M 44.28125 53.078125 \r\nL 44.28125 44.578125 \r\nQ 40.484375 46.53125 36.375 47.5 \r\nQ 32.28125 48.484375 27.875 48.484375 \r\nQ 21.1875 48.484375 17.84375 46.4375 \r\nQ 14.5 44.390625 14.5 40.28125 \r\nQ 14.5 37.15625 16.890625 35.375 \r\nQ 19.28125 33.59375 26.515625 31.984375 \r\nL 29.59375 31.296875 \r\nQ 39.15625 29.25 43.1875 25.515625 \r\nQ 47.21875 21.78125 47.21875 15.09375 \r\nQ 47.21875 7.46875 41.1875 3.015625 \r\nQ 35.15625 -1.421875 24.609375 -1.421875 \r\nQ 20.21875 -1.421875 15.453125 -0.5625 \r\nQ 10.6875 0.296875 5.421875 2 \r\nL 5.421875 11.28125 \r\nQ 10.40625 8.6875 15.234375 7.390625 \r\nQ 20.0625 6.109375 24.8125 6.109375 \r\nQ 31.15625 6.109375 34.5625 8.28125 \r\nQ 37.984375 10.453125 37.984375 14.40625 \r\nQ 37.984375 18.0625 35.515625 20.015625 \r\nQ 33.0625 21.96875 24.703125 23.78125 \r\nL 21.578125 24.515625 \r\nQ 13.234375 26.265625 9.515625 29.90625 \r\nQ 5.8125 33.546875 5.8125 39.890625 \r\nQ 5.8125 47.609375 11.28125 51.796875 \r\nQ 16.75 56 26.8125 56 \r\nQ 31.78125 56 36.171875 55.265625 \r\nQ 40.578125 54.546875 44.28125 53.078125 \r\nz\r\n\" id=\"DejaVuSans-115\"/>\r\n     <path d=\"M 45.40625 46.390625 \r\nL 45.40625 75.984375 \r\nL 54.390625 75.984375 \r\nL 54.390625 0 \r\nL 45.40625 0 \r\nL 45.40625 8.203125 \r\nQ 42.578125 3.328125 38.25 0.953125 \r\nQ 33.9375 -1.421875 27.875 -1.421875 \r\nQ 17.96875 -1.421875 11.734375 6.484375 \r\nQ 5.515625 14.40625 5.515625 27.296875 \r\nQ 5.515625 40.1875 11.734375 48.09375 \r\nQ 17.96875 56 27.875 56 \r\nQ 33.9375 56 38.25 53.625 \r\nQ 42.578125 51.265625 45.40625 46.390625 \r\nz\r\nM 14.796875 27.296875 \r\nQ 14.796875 17.390625 18.875 11.75 \r\nQ 22.953125 6.109375 30.078125 6.109375 \r\nQ 37.203125 6.109375 41.296875 11.75 \r\nQ 45.40625 17.390625 45.40625 27.296875 \r\nQ 45.40625 37.203125 41.296875 42.84375 \r\nQ 37.203125 48.484375 30.078125 48.484375 \r\nQ 22.953125 48.484375 18.875 42.84375 \r\nQ 14.796875 37.203125 14.796875 27.296875 \r\nz\r\n\" id=\"DejaVuSans-100\"/>\r\n    </defs>\r\n    <g transform=\"translate(252.789688 16.318125)scale(0.12 -0.12)\">\r\n     <use xlink:href=\"#DejaVuSans-68\"/>\r\n     <use x=\"77.001953\" xlink:href=\"#DejaVuSans-111\"/>\r\n     <use x=\"138.183594\" xlink:href=\"#DejaVuSans-110\"/>\r\n     <use x=\"201.5625\" xlink:href=\"#DejaVuSans-110\"/>\r\n     <use x=\"264.941406\" xlink:href=\"#DejaVuSans-233\"/>\r\n     <use x=\"326.464844\" xlink:href=\"#DejaVuSans-101\"/>\r\n     <use x=\"387.988281\" xlink:href=\"#DejaVuSans-115\"/>\r\n     <use x=\"440.087891\" xlink:href=\"#DejaVuSans-32\"/>\r\n     <use x=\"471.875\" xlink:href=\"#DejaVuSans-101\"/>\r\n     <use x=\"533.398438\" xlink:href=\"#DejaVuSans-116\"/>\r\n     <use x=\"572.607422\" xlink:href=\"#DejaVuSans-32\"/>\r\n     <use x=\"604.394531\" xlink:href=\"#DejaVuSans-100\"/>\r\n     <use x=\"667.871094\" xlink:href=\"#DejaVuSans-114\"/>\r\n     <use x=\"708.953125\" xlink:href=\"#DejaVuSans-111\"/>\r\n     <use x=\"770.134766\" xlink:href=\"#DejaVuSans-105\"/>\r\n     <use x=\"797.917969\" xlink:href=\"#DejaVuSans-116\"/>\r\n     <use x=\"837.126953\" xlink:href=\"#DejaVuSans-101\"/>\r\n     <use x=\"898.650391\" xlink:href=\"#DejaVuSans-32\"/>\r\n     <use x=\"930.4375\" xlink:href=\"#DejaVuSans-100\"/>\r\n     <use x=\"993.914062\" xlink:href=\"#DejaVuSans-101\"/>\r\n     <use x=\"1055.4375\" xlink:href=\"#DejaVuSans-115\"/>\r\n     <use x=\"1107.537109\" xlink:href=\"#DejaVuSans-32\"/>\r\n     <use x=\"1139.324219\" xlink:href=\"#DejaVuSans-109\"/>\r\n     <use x=\"1236.736328\" xlink:href=\"#DejaVuSans-111\"/>\r\n     <use x=\"1297.917969\" xlink:href=\"#DejaVuSans-105\"/>\r\n     <use x=\"1325.701172\" xlink:href=\"#DejaVuSans-110\"/>\r\n     <use x=\"1389.080078\" xlink:href=\"#DejaVuSans-100\"/>\r\n     <use x=\"1452.556641\" xlink:href=\"#DejaVuSans-114\"/>\r\n     <use x=\"1493.638672\" xlink:href=\"#DejaVuSans-101\"/>\r\n     <use x=\"1555.162109\" xlink:href=\"#DejaVuSans-115\"/>\r\n     <use x=\"1607.261719\" xlink:href=\"#DejaVuSans-32\"/>\r\n     <use x=\"1639.048828\" xlink:href=\"#DejaVuSans-99\"/>\r\n     <use x=\"1694.029297\" xlink:href=\"#DejaVuSans-97\"/>\r\n     <use x=\"1755.308594\" xlink:href=\"#DejaVuSans-114\"/>\r\n     <use x=\"1796.40625\" xlink:href=\"#DejaVuSans-114\"/>\r\n     <use x=\"1837.488281\" xlink:href=\"#DejaVuSans-233\"/>\r\n     <use x=\"1899.011719\" xlink:href=\"#DejaVuSans-115\"/>\r\n    </g>\r\n   </g>\r\n   <g id=\"legend_1\">\r\n    <g id=\"patch_7\">\r\n     <path d=\"M 50.78125 59.674375 \r\nL 162.846875 59.674375 \r\nQ 164.846875 59.674375 164.846875 57.674375 \r\nL 164.846875 29.318125 \r\nQ 164.846875 27.318125 162.846875 27.318125 \r\nL 50.78125 27.318125 \r\nQ 48.78125 27.318125 48.78125 29.318125 \r\nL 48.78125 57.674375 \r\nQ 48.78125 59.674375 50.78125 59.674375 \r\nz\r\n\" style=\"fill:#ffffff;opacity:0.8;stroke:#cccccc;stroke-linejoin:miter;\"/>\r\n    </g>\r\n    <g id=\"line2d_17\"/>\r\n    <g id=\"line2d_18\">\r\n     <g>\r\n      <use style=\"fill:#1f77b4;stroke:#000000;\" x=\"62.78125\" xlink:href=\"#mbe8480f5a9\" y=\"35.416562\"/>\r\n     </g>\r\n    </g>\r\n    <g id=\"text_18\">\r\n     <!-- Données -->\r\n     <g transform=\"translate(80.78125 38.916562)scale(0.1 -0.1)\">\r\n      <use xlink:href=\"#DejaVuSans-68\"/>\r\n      <use x=\"77.001953\" xlink:href=\"#DejaVuSans-111\"/>\r\n      <use x=\"138.183594\" xlink:href=\"#DejaVuSans-110\"/>\r\n      <use x=\"201.5625\" xlink:href=\"#DejaVuSans-110\"/>\r\n      <use x=\"264.941406\" xlink:href=\"#DejaVuSans-233\"/>\r\n      <use x=\"326.464844\" xlink:href=\"#DejaVuSans-101\"/>\r\n      <use x=\"387.988281\" xlink:href=\"#DejaVuSans-115\"/>\r\n     </g>\r\n    </g>\r\n    <g id=\"line2d_19\">\r\n     <path d=\"M 52.78125 50.094687 \r\nL 72.78125 50.094687 \r\n\" style=\"fill:none;stroke:#008000;stroke-linecap:square;stroke-width:3;\"/>\r\n    </g>\r\n    <g id=\"line2d_20\"/>\r\n    <g id=\"text_19\">\r\n     <!-- Moindres carrés -->\r\n     <defs>\r\n      <path d=\"M 9.8125 72.90625 \r\nL 24.515625 72.90625 \r\nL 43.109375 23.296875 \r\nL 61.8125 72.90625 \r\nL 76.515625 72.90625 \r\nL 76.515625 0 \r\nL 66.890625 0 \r\nL 66.890625 64.015625 \r\nL 48.09375 14.015625 \r\nL 38.1875 14.015625 \r\nL 19.390625 64.015625 \r\nL 19.390625 0 \r\nL 9.8125 0 \r\nz\r\n\" id=\"DejaVuSans-77\"/>\r\n     </defs>\r\n     <g transform=\"translate(80.78125 53.594687)scale(0.1 -0.1)\">\r\n      <use xlink:href=\"#DejaVuSans-77\"/>\r\n      <use x=\"86.279297\" xlink:href=\"#DejaVuSans-111\"/>\r\n      <use x=\"147.460938\" xlink:href=\"#DejaVuSans-105\"/>\r\n      <use x=\"175.244141\" xlink:href=\"#DejaVuSans-110\"/>\r\n      <use x=\"238.623047\" xlink:href=\"#DejaVuSans-100\"/>\r\n      <use x=\"302.099609\" xlink:href=\"#DejaVuSans-114\"/>\r\n      <use x=\"343.181641\" xlink:href=\"#DejaVuSans-101\"/>\r\n      <use x=\"404.705078\" xlink:href=\"#DejaVuSans-115\"/>\r\n      <use x=\"456.804688\" xlink:href=\"#DejaVuSans-32\"/>\r\n      <use x=\"488.591797\" xlink:href=\"#DejaVuSans-99\"/>\r\n      <use x=\"543.572266\" xlink:href=\"#DejaVuSans-97\"/>\r\n      <use x=\"604.851562\" xlink:href=\"#DejaVuSans-114\"/>\r\n      <use x=\"645.949219\" xlink:href=\"#DejaVuSans-114\"/>\r\n      <use x=\"687.03125\" xlink:href=\"#DejaVuSans-233\"/>\r\n      <use x=\"748.554688\" xlink:href=\"#DejaVuSans-115\"/>\r\n     </g>\r\n    </g>\r\n   </g>\r\n  </g>\r\n </g>\r\n <defs>\r\n  <clipPath id=\"p7ea60b8d67\">\r\n   <rect height=\"435.4\" width=\"652.15\" x=\"43.78125\" y=\"22.318125\"/>\r\n  </clipPath>\r\n </defs>\r\n</svg>\r\n",
      "image/png": "[encoded data removed]"
     },
     "metadata": {
      "needs_background": "light"
     }
    }
   ],
   "source": [
    "## Question 3.\n",
    "# Je définis quelques variables pour simplifier l'affichage des graphiques\n",
    "ymin_normal = 0.1\n",
    "ymax_normal = 0.6\n",
    "xmin_normal = 100\n",
    "xmax_normal = 800\n",
    "\n",
    "ylabels = \"Volume (en mètre cube)\"\n",
    "xlabels = \"Aire (en mètre carré)\"\n",
    "\n",
    "# Je créer l'axe des abscisses pour lequel on va évaluer le modèle\n",
    "X_to_predict = np.linspace(xmin_normal, xmax_normal, num=50).reshape(50, 1)\n",
    "X_to_predict = pd.DataFrame(X_to_predict, columns=['aire'])\n",
    "\n",
    "\n",
    "# J'affiche les données et la regression linéaire associée\n",
    "fig = plt.figure(figsize=(10, 7))\n",
    "plt.xlabel(xlabels)\n",
    "plt.ylabel(ylabels)\n",
    "plt.plot(df_arbres['aire'], df_arbres['vol'], 'o', label=r'Données', markeredgecolor='k', markeredgewidth=1)\n",
    "\n",
    "plt.xlim(left=xmin_normal, right=xmax_normal)\n",
    "plt.ylim(bottom=ymin_normal, top=ymax_normal)\n",
    "\n",
    "plt.plot(X_to_predict, results.predict(X_to_predict), linewidth=3, color='green', label=r\"Moindres carrés\")\n",
    "plt.legend(numpoints=1, loc=2)  # numpoints = 1 for nicer display\n",
    "plt.title(\"Données et droite des moindres carrés\")\n",
    "plt.tight_layout()\n",
    "plt.show()"
   ]
  },
  {
   "source": [
    "4) **(0.5pt)** Donnez la proportion de la variance expliquée par le modèle linéaire."
   ],
   "cell_type": "markdown",
   "metadata": {}
  },
  {
   "cell_type": "code",
   "execution_count": null,
   "metadata": {},
   "outputs": [],
   "source": [
    "## Question 4.\n",
    "variance = results\n",
    "\n",
    "print(\"La proportion de la variance avec notre modèle est : Var = \" + str(variance))"
   ]
  },
  {
   "source": [
    "5) **(0.75pt)** Afficher une courbe représentant un estimateur à noyau des résidus studentisés.\n"
   ],
   "cell_type": "markdown",
   "metadata": {}
  },
  {
   "cell_type": "code",
   "execution_count": null,
   "metadata": {},
   "outputs": [],
   "source": [
    "## Question 5."
   ]
  },
  {
   "source": [
    "6) **(1pt)** Proposez un intervalle de *prédiction* pour le volume correspondant à une aire de 465$cm^2$ pour un niveau de confiance de 1 − $\\alpha$ (avec $\\alpha$ la valeur obtenu à l’EXERCICE 1)."
   ],
   "cell_type": "markdown",
   "metadata": {}
  },
  {
   "cell_type": "code",
   "execution_count": null,
   "metadata": {},
   "outputs": [],
   "source": [
    "## Question 6."
   ]
  },
  {
   "source": [
    "7) **(2pt)** Afficher sur un graphique les données brutes, la droite de régression obtenue par les moindres carrés, la prédiction donnée par le modèle pour la valeur 465$cm^2$. Enfin, proposer une représentation\n",
    "graphique de l’intervalle de confiance pour le niveau de confiance $\\alpha$ calculé à la question précédente."
   ],
   "cell_type": "markdown",
   "metadata": {}
  },
  {
   "cell_type": "code",
   "execution_count": null,
   "metadata": {},
   "outputs": [],
   "source": [
    "## Question 7."
   ]
  },
  {
   "source": [
    "### EXERCICE 7 - Pollution en Occitanie (2pts Bonus)"
   ],
   "cell_type": "markdown",
   "metadata": {}
  },
  {
   "source": [
    "Reprendre la base de données sur les principaux polluants en Occitanie.\n",
    "Proposer une comparaison approfondie du niveau de pollution entre Toulouse et Montpellier sur le niveau de NO2. On pourra s’intéresser au niveau de pollution pour certaines saisons seulement, pour certains jours de la semaine/week-end, pour la journée / pour la nuit, etc. Ces comparaisons seront appuyées d’un argumentaire graphique et statistique (test/intervalle de confiance) de votre choix.\n"
   ],
   "cell_type": "markdown",
   "metadata": {}
  },
  {
   "cell_type": "code",
   "execution_count": null,
   "metadata": {},
   "outputs": [],
   "source": []
  }
 ],
 "metadata": {
  "kernelspec": {
   "name": "python374jvsc74a57bd03ce6d09e3a67744e37e10372e723b664494f0018a553c356fb94f6b01ecae3b1",
   "display_name": "Python 3.7.4 64-bit ('base': conda)"
  },
  "language_info": {
   "codemirror_mode": {
    "name": "ipython",
    "version": 3
   },
   "file_extension": ".py",
   "mimetype": "text/x-python",
   "name": "python",
   "nbconvert_exporter": "python",
   "pygments_lexer": "ipython3",
   "version": "3.7.4"
  }
 },
 "nbformat": 4,
 "nbformat_minor": 1
}